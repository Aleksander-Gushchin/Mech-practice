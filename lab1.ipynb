{
 "cells": [
  {
   "cell_type": "code",
   "execution_count": 11,
   "metadata": {},
   "outputs": [],
   "source": [
    "import numpy as np"
   ]
  },
  {
   "cell_type": "code",
   "execution_count": 12,
   "metadata": {},
   "outputs": [],
   "source": [
    "alpha_angle=np.array([20, 25, 30, 35])\n",
    "beta_dict = {20 : np.array([17, 17, 16, 17, 17]), 25 : np.array([22, 23, 22, 22, 23]), 30:np.array([26, 27, 26, 27, 27]), 35:np.array([32, 32, 32, 32, 32])}\n",
    "U_dict = {20 : np.array([5.4, 5.7, 5.6, 5.8, 5.8]), 25 : np.array([5.8, 6, 6, 6, 5.8]), 30:np.array([5.8, 5.8, 6, 5.8, 5.8]), 35:np.array([6.2, 5.4, 5.6, 5.6, 5.8])}\n",
    "time_dict = {20 : np.array([136e-3, 130e-3, 123e-3, 126e-3, 131e-3]), 25 : np.array([128e-3, 113e-3, 121e-3, 124e-3, 128e-3]), 30:np.array([121e-3, 111e-3, 121e-3, 110e-3, 118e-3]), 35:np.array([116e-3, 111e-3, 113e-3, 116e-3, 113e-3])}\n",
    "\n",
    "l  = 0.42\n",
    "d  = 0.038\n",
    "ro = 7.8e3\n",
    "g  = 9.8\n",
    "R = 15e6*90/(90 + 15e6)\n",
    "C = 10 * 1e-6\n",
    "m = ro * (4/3) * np.pi * (d/2)**3\n",
    "Beta = np.sqrt(d) * 2.1e11/(3 * (1 - 0.3**2))"
   ]
  },
  {
   "cell_type": "code",
   "execution_count": 13,
   "metadata": {},
   "outputs": [],
   "source": [
    "get_h   = lambda alpha : l * (1 - np.cos(np.radians(alpha)))\n",
    "get_v   = lambda alpha : np.sqrt(2 * g * get_h(alpha))\n",
    "get_k   = lambda u1, u2, v1, v2 : (u2 - u1) / (v1 - v2)\n",
    "get_tau2= lambda U0, U : R * C * np.log(U0/U)\n",
    "get_tau1= lambda v0 : 2.943*(5 * m/ (4* Beta)) * v0**(-1/5)\n",
    "get_S   = lambda K , v: (1 + K) * (m/2) * v\n",
    "get_P   = lambda x : Beta * x**(3/2)"
   ]
  },
  {
   "cell_type": "code",
   "execution_count": 14,
   "metadata": {},
   "outputs": [
    {
     "data": {
      "text/plain": [
       "array([0.85120047, 0.85120047, 0.80146595, 0.85120047, 0.85120047])"
      ]
     },
     "execution_count": 14,
     "metadata": {},
     "output_type": "execute_result"
    }
   ],
   "source": [
    "v1 = get_v(alpha_angle[0])\n",
    "v2 = 0\n",
    "u1 = 0\n",
    "u2 = get_v(beta_dict[alpha_angle[0]])\n",
    "\n",
    "get_k(u1, u2, v1, v2)\n"
   ]
  },
  {
   "cell_type": "code",
   "execution_count": 15,
   "metadata": {},
   "outputs": [
    {
     "data": {
      "text/plain": [
       "7800.0"
      ]
     },
     "execution_count": 15,
     "metadata": {},
     "output_type": "execute_result"
    }
   ],
   "source": [
    "ro"
   ]
  },
  {
   "cell_type": "code",
   "execution_count": 16,
   "metadata": {},
   "outputs": [
    {
     "data": {
      "text/plain": [
       "5.896689531666404e-11"
      ]
     },
     "execution_count": 16,
     "metadata": {},
     "output_type": "execute_result"
    }
   ],
   "source": [
    "get_tau1(get_v(alpha_angle[0]))"
   ]
  },
  {
   "cell_type": "code",
   "execution_count": 17,
   "metadata": {},
   "outputs": [
    {
     "data": {
      "text/plain": [
       "0.00011629055833200563"
      ]
     },
     "execution_count": 17,
     "metadata": {},
     "output_type": "execute_result"
    }
   ],
   "source": [
    "get_tau2(6.6, 5.8)"
   ]
  },
  {
   "cell_type": "code",
   "execution_count": null,
   "metadata": {},
   "outputs": [],
   "source": []
  }
 ],
 "metadata": {
  "kernelspec": {
   "display_name": "Python 3.10.8 64-bit",
   "language": "python",
   "name": "python3"
  },
  "language_info": {
   "codemirror_mode": {
    "name": "ipython",
    "version": 3
   },
   "file_extension": ".py",
   "mimetype": "text/x-python",
   "name": "python",
   "nbconvert_exporter": "python",
   "pygments_lexer": "ipython3",
   "version": "3.10.8"
  },
  "orig_nbformat": 4,
  "vscode": {
   "interpreter": {
    "hash": "be87d15bfa75f2acc46fbef3dc9b1babd3a6f7447de2e4a88a9e26a3e6769ad5"
   }
  }
 },
 "nbformat": 4,
 "nbformat_minor": 2
}
