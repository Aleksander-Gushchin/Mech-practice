{
 "cells": [
  {
   "cell_type": "code",
   "execution_count": 70,
   "metadata": {},
   "outputs": [],
   "source": [
    "import numpy as np"
   ]
  },
  {
   "cell_type": "code",
   "execution_count": 71,
   "metadata": {},
   "outputs": [],
   "source": [
    "alpha_angle=np.array([20, 25, 30, 35])\n",
    "beta_dict = {20 : np.array([17, 17, 16, 17, 17]), 25 : np.array([22, 23, 22, 22, 23]), 30:np.array([26, 27, 26, 27, 27]), 35:np.array([32, 32, 32, 32, 32])}\n",
    "U_dict = {20 : np.array([5.4, 5.7, 5.6, 5.8, 5.8]), 25 : np.array([5.8, 6, 6, 6, 5.8]), 30:np.array([5.8, 5.8, 6, 5.8, 5.8]), 35:np.array([6.2, 5.4, 5.6, 5.6, 5.8])}\n",
    "time_dict = {20 : np.array([136, 130, 123, 126, 131]) * 1e-6, 25 : np.array([128, 113, 121, 124, 128]) * 1e-6, 30:np.array([121, 111, 121, 110, 118]) * 1e-6, 35:np.array([116, 111, 113, 116, 113]) * 1e-6}\n",
    "\n",
    "l  = 42e-2\n",
    "d  = 3.8e-2\n",
    "ro = 7.8e3\n",
    "g  = 9.8\n",
    "R = 15e6*90/(90 + 15e6)\n",
    "C = 10 * 1e-6\n",
    "m = ro * (4/3) * np.pi * (d/2)**3\n",
    "U0 = 6.6\n",
    "Beta = np.sqrt(d) * 2.1e11/(3 * (1 - 0.3**2))"
   ]
  },
  {
   "cell_type": "code",
   "execution_count": 72,
   "metadata": {},
   "outputs": [],
   "source": [
    "get_h      = lambda alpha : l * (1 - np.cos(np.radians(alpha)))\n",
    "get_v      = lambda alpha : np.sqrt(2 * g * get_h(alpha))\n",
    "get_k      = lambda u1, u2, v1, v2 : (u2 - u1) / (v1 - v2)\n",
    "get_tau2   = lambda U0, U : R * C * np.log(U0/U)\n",
    "get_tau1   = lambda v0 : 2.943*(5 * m/ (4* Beta)) * v0**(-1/5)\n",
    "get_S      = lambda K , v: (1 + K) * (m/2) * v\n",
    "get_P      = lambda x : Beta * x**(3/2)\n",
    "get_T_lost = lambda u1, v1, u2, v2 : .5 * m * (u1 - v1)**2 + .5 * m(u2 - v2)**2"
   ]
  },
  {
   "cell_type": "code",
   "execution_count": 73,
   "metadata": {},
   "outputs": [
    {
     "data": {
      "text/plain": [
       "array([0.85120047, 0.85120047, 0.80146595, 0.85120047, 0.85120047])"
      ]
     },
     "execution_count": 73,
     "metadata": {},
     "output_type": "execute_result"
    }
   ],
   "source": [
    "v1 = get_v(alpha_angle[0])\n",
    "v2 = 0\n",
    "u1 = 0\n",
    "u2 = get_v(beta_dict[alpha_angle[0]])\n",
    "\n",
    "get_k(u1, u2, v1, v2)\n"
   ]
  },
  {
   "cell_type": "code",
   "execution_count": null,
   "metadata": {},
   "outputs": [],
   "source": []
  },
  {
   "cell_type": "code",
   "execution_count": 74,
   "metadata": {},
   "outputs": [
    {
     "data": {
      "text/plain": [
       "5.2834055418161825e-11"
      ]
     },
     "execution_count": 74,
     "metadata": {},
     "output_type": "execute_result"
    }
   ],
   "source": [
    "get_tau1(get_v(alpha_angle[3]))"
   ]
  },
  {
   "cell_type": "code",
   "execution_count": 75,
   "metadata": {},
   "outputs": [
    {
     "data": {
      "text/plain": [
       "0.00011628986059284205"
      ]
     },
     "execution_count": 75,
     "metadata": {},
     "output_type": "execute_result"
    }
   ],
   "source": [
    "get_tau2(6.6, 5.8)"
   ]
  },
  {
   "cell_type": "markdown",
   "metadata": {},
   "source": [
    "3."
   ]
  },
  {
   "cell_type": "code",
   "execution_count": 76,
   "metadata": {},
   "outputs": [
    {
     "name": "stdout",
     "output_type": "stream",
     "text": [
      "[0.1222915  0.16755915 0.19756023 0.24019232]\n"
     ]
    }
   ],
   "source": [
    "v1 = get_v(alpha_angle)\n",
    "v2 = np.zeros(len(v1))\n",
    "u1 = np.zeros(len(v1))\n",
    "u2 = [get_v(np.mean(angle)) for key, angle in beta_dict.items()]\n",
    "\n",
    "k = get_k(u1, u2, v1, v2)\n",
    "\n",
    "print(get_S(k, u2))"
   ]
  },
  {
   "cell_type": "markdown",
   "metadata": {},
   "source": [
    "5."
   ]
  },
  {
   "cell_type": "code",
   "execution_count": 77,
   "metadata": {},
   "outputs": [
    {
     "name": "stdout",
     "output_type": "stream",
     "text": [
      "[1.38280351e-04 9.78592930e-05 1.10104306e-04 1.28789987e-04]\n"
     ]
    }
   ],
   "source": [
    "\n",
    "print(get_tau2( np.full( (len(alpha_angle)), U0), [np.mean(u) for key, u in U_dict.items()]))"
   ]
  },
  {
   "cell_type": "markdown",
   "metadata": {},
   "source": []
  }
 ],
 "metadata": {
  "kernelspec": {
   "display_name": "Python 3.10.8 64-bit",
   "language": "python",
   "name": "python3"
  },
  "language_info": {
   "codemirror_mode": {
    "name": "ipython",
    "version": 3
   },
   "file_extension": ".py",
   "mimetype": "text/x-python",
   "name": "python",
   "nbconvert_exporter": "python",
   "pygments_lexer": "ipython3",
   "version": "3.10.8"
  },
  "orig_nbformat": 4,
  "vscode": {
   "interpreter": {
    "hash": "be87d15bfa75f2acc46fbef3dc9b1babd3a6f7447de2e4a88a9e26a3e6769ad5"
   }
  }
 },
 "nbformat": 4,
 "nbformat_minor": 2
}
