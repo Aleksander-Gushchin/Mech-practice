{
 "cells": [
  {
   "cell_type": "code",
   "execution_count": 267,
   "metadata": {},
   "outputs": [],
   "source": [
    "import numpy as np"
   ]
  },
  {
   "cell_type": "code",
   "execution_count": 268,
   "metadata": {},
   "outputs": [],
   "source": [
    "alpha_angle=np.array([20, 25, 30, 35])\n",
    "beta_dict = {20 : np.array([17, 17, 16, 17, 17]), 25 : np.array([22, 23, 22, 22, 23]), 30:np.array([26, 27, 26, 27, 27]), 35:np.array([32, 32, 32, 32, 32])}\n",
    "U_dict = {20 : np.array([5.4, 5.7, 5.6, 5.8, 5.8]), 25 : np.array([5.8, 6, 6, 6, 5.8]), 30:np.array([5.8, 5.8, 6, 5.8, 5.8]), 35:np.array([6.2, 5.4, 5.6, 5.6, 5.8])}\n",
    "time_dict = {20 : np.array([136, 130, 123, 126, 131]) * 1e-6, 25 : np.array([128, 113, 121, 124, 128]) * 1e-6, 30:np.array([121, 111, 121, 110, 118]) * 1e-6, 35:np.array([116, 111, 113, 116, 113]) * 1e-6}\n",
    "\n",
    "l  = 42e-2\n",
    "d  = 3.8e-2\n",
    "ro = 7.8e3\n",
    "g  = 9.8\n",
    "R = 15e6*90/(90 + 15e6)\n",
    "C = 10 * 1e-6\n",
    "m = ro * (4/3) * np.pi * (d/2)**3\n",
    "U0 = 6.6\n",
    "Beta = np.sqrt(d) * 2.1e11/(3 * (1 - 0.3**2))"
   ]
  },
  {
   "cell_type": "code",
   "execution_count": 269,
   "metadata": {},
   "outputs": [],
   "source": [
    "get_h      = lambda alpha : l * (1 - np.cos(np.radians(alpha)))\n",
    "get_v      = lambda alpha : np.sqrt(2 * g * get_h(alpha))\n",
    "get_k      = lambda u1, u2, v1, v2 : (u2 - u1) / (v1 - v2)\n",
    "get_tau2   = lambda U0, U : R * C * np.log(U0/U)\n",
    "get_tau1   = lambda v0 : 2.943*(5 * m/ (4* Beta))**(2/5) * v0**(-1/5)\n",
    "get_S      = lambda K , v: (1 + K) * (m/2) * v\n",
    "get_P      = lambda x : Beta * x**(3/2)\n",
    "get_T_lost = lambda u1, v1, u2, v2 : .5 * m * (u1 - v1)**2 + .5 * m(u2 - v2)**2"
   ]
  },
  {
   "cell_type": "markdown",
   "metadata": {},
   "source": [
    "1."
   ]
  },
  {
   "cell_type": "code",
   "execution_count": 270,
   "metadata": {},
   "outputs": [
    {
     "name": "stdout",
     "output_type": "stream",
     "text": [
      "[0.84125863 0.89740666 0.88884393 0.91663465]\n"
     ]
    }
   ],
   "source": [
    "v1 = get_v(alpha_angle)\n",
    "v2 = 0\n",
    "u1 = 0\n",
    "u2 = get_v([ np.mean(val)  for val in beta_dict.values() ])\n",
    "\n",
    "print(get_k(u1, u2, v1, v2))\n"
   ]
  },
  {
   "cell_type": "markdown",
   "metadata": {},
   "source": [
    "3."
   ]
  },
  {
   "cell_type": "code",
   "execution_count": 271,
   "metadata": {},
   "outputs": [
    {
     "name": "stdout",
     "output_type": "stream",
     "text": [
      "[0.1222915  0.16755915 0.19756023 0.24019232]\n"
     ]
    }
   ],
   "source": [
    "v1 = get_v(alpha_angle)\n",
    "v2 = np.zeros(len(v1))\n",
    "u1 = np.zeros(len(v1))\n",
    "u2 = [get_v(np.mean(angle)) for key, angle in beta_dict.items()]\n",
    "\n",
    "k = get_k(u1, u2, v1, v2)\n",
    "\n",
    "\n",
    "S_list = get_S(k, u2)\n",
    "print(S_list)"
   ]
  },
  {
   "cell_type": "markdown",
   "metadata": {},
   "source": [
    "5."
   ]
  },
  {
   "cell_type": "code",
   "execution_count": 272,
   "metadata": {},
   "outputs": [
    {
     "name": "stdout",
     "output_type": "stream",
     "text": [
      "[1.38280351e-04 9.78592930e-05 1.10104306e-04 1.28789987e-04]\n"
     ]
    }
   ],
   "source": [
    "\n",
    "print(get_tau2( np.full( (len(alpha_angle)), U0), [np.mean(u) for key, u in U_dict.items()]))"
   ]
  },
  {
   "cell_type": "markdown",
   "metadata": {},
   "source": [
    "6."
   ]
  },
  {
   "cell_type": "code",
   "execution_count": 273,
   "metadata": {},
   "outputs": [
    {
     "name": "stdout",
     "output_type": "stream",
     "text": [
      "[0.00016135 0.00015439 0.00014897 0.00014457]\n"
     ]
    }
   ],
   "source": [
    "print( get_tau1(get_v(alpha_angle)))"
   ]
  },
  {
   "cell_type": "markdown",
   "metadata": {},
   "source": [
    "7."
   ]
  },
  {
   "cell_type": "code",
   "execution_count": 274,
   "metadata": {},
   "outputs": [
    {
     "name": "stdout",
     "output_type": "stream",
     "text": [
      "First [3.86289194e-05 4.60729241e-05 5.31585786e-05 5.99362848e-05] [3600.12255794 4689.39817738 5811.77090234 6957.97997485]\n",
      "Second [3.86528694e-05 4.61014893e-05 5.31915370e-05 5.99734452e-05] [3601.34584117 4690.99158485 5813.74568009 6960.34422221]\n"
     ]
    }
   ],
   "source": [
    "get_xmax1 = lambda v : ( (5 * m * v**2) / (4 * Beta) )**(2/5)\n",
    "get_Pmax1 = lambda v : Beta**(2/5)*(5*m*v**2/4)**(3/5) \n",
    "\n",
    "get_xmax2 = lambda v,tau : 0.34 * v * tau\n",
    "get_Pmax2 = lambda v,tau : 3.68 * m * v / tau\n",
    "\n",
    "speed_list = get_v(alpha_angle)\n",
    "tau_list   = get_tau1(speed_list)\n",
    "\n",
    "\n",
    "print(\"First\", get_xmax1(speed_list), get_Pmax1(speed_list))\n",
    "print(\"Second\", get_xmax2(speed_list, tau_list), get_Pmax2(speed_list, tau_list))\n",
    "\n"
   ]
  },
  {
   "cell_type": "markdown",
   "metadata": {},
   "source": [
    "8."
   ]
  },
  {
   "cell_type": "code",
   "execution_count": 275,
   "metadata": {},
   "outputs": [
    {
     "name": "stdout",
     "output_type": "stream",
     "text": [
      "[ 757.93392226 1085.26687894 1326.17183801 1661.45472215]\n"
     ]
    }
   ],
   "source": [
    "Pmean = S_list / tau_list\n",
    "print(Pmean)"
   ]
  },
  {
   "cell_type": "markdown",
   "metadata": {},
   "source": [
    "9."
   ]
  },
  {
   "cell_type": "code",
   "execution_count": 276,
   "metadata": {},
   "outputs": [
    {
     "name": "stdout",
     "output_type": "stream",
     "text": [
      "[0.0001613635740733724, 0.00015440885870631095, 0.00014898423558431197, 0.0001445809926943988]\n"
     ]
    }
   ],
   "source": [
    "from scipy.integrate import quad\n",
    "\n",
    "\n",
    "P_intg = lambda x : quad(get_P, 0, x)[0]\n",
    "\n",
    "def get_nested(v):\n",
    "    return lambda x : 2 / np.sqrt( v**2 - 2/m*P_intg(x) )\n",
    "\n",
    "intg_list = [ quad(get_nested(sp), 0, get_xmax1(sp))[0] for sp in speed_list ]\n",
    "print(intg_list)"
   ]
  },
  {
   "cell_type": "markdown",
   "metadata": {},
   "source": [
    "10."
   ]
  },
  {
   "cell_type": "code",
   "execution_count": 277,
   "metadata": {},
   "outputs": [
    {
     "data": {
      "image/png": "[encoded data removed]",
      "text/plain": [
       "<Figure size 640x480 with 1 Axes>"
      ]
     },
     "metadata": {},
     "output_type": "display_data"
    }
   ],
   "source": [
    "import matplotlib.pyplot as plt\n",
    "\n",
    "\n",
    "step = 1e-6\n",
    "\n",
    "for speed in speed_list:\n",
    "    max_x = get_xmax1(speed)\n",
    "    rang = np.arange(0, max_x, step)\n",
    "    plt.plot([ quad(get_nested(speed), 0, x )[0] for x in rang ], rang)\n",
    "\n"
   ]
  }
 ],
 "metadata": {
  "kernelspec": {
   "display_name": "Python 3.10.8 64-bit",
   "language": "python",
   "name": "python3"
  },
  "language_info": {
   "codemirror_mode": {
    "name": "ipython",
    "version": 3
   },
   "file_extension": ".py",
   "mimetype": "text/x-python",
   "name": "python",
   "nbconvert_exporter": "python",
   "pygments_lexer": "ipython3",
   "version": "3.10.8"
  },
  "orig_nbformat": 4,
  "vscode": {
   "interpreter": {
    "hash": "be87d15bfa75f2acc46fbef3dc9b1babd3a6f7447de2e4a88a9e26a3e6769ad5"
   }
  }
 },
 "nbformat": 4,
 "nbformat_minor": 2
}
